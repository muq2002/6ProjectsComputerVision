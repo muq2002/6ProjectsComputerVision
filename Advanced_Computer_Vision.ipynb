{
 "cells": [
  {
   "cell_type": "markdown",
   "id": "cba54a48-8153-4a60-94d5-cd4ce1a4a11f",
   "metadata": {},
   "source": [
    "# Computer Vision Advanced Counrse"
   ]
  },
  {
   "cell_type": "markdown",
   "id": "61b2aca2",
   "metadata": {},
   "source": [
    "### Project 1 : Hand tracking"
   ]
  },
  {
   "cell_type": "code",
   "execution_count": 7,
   "id": "7327b146-fac0-4886-bf11-ccaceb22f92b",
   "metadata": {},
   "outputs": [],
   "source": [
    "import cv2\n",
    "import mediapipe as mp\n",
    "import time\n",
    "pTime = 0\n"
   ]
  },
  {
   "cell_type": "code",
   "execution_count": 8,
   "id": "efba95bf-c520-406e-aec1-24e4e863e029",
   "metadata": {},
   "outputs": [],
   "source": [
    "cap = cv2.VideoCapture(0)\n",
    "\n",
    "mp_hand = mp.solutions.hands\n",
    "mp_draw = mp.solutions.drawing_utils\n",
    "hands = mp_hand.Hands()\n",
    "\n",
    "while(cap.isOpened()):\n",
    "    _,  frame = cap.read()\n",
    "    frameRGB = cv2.cvtColor(frame, cv2.COLOR_BGR2RGB)\n",
    "    result = hands.process(frameRGB)\n",
    "    if result.multi_hand_landmarks:\n",
    "        for hand_landmark in result.multi_hand_landmarks:\n",
    "            mp_draw.draw_landmarks(\n",
    "                frame, hand_landmark, mp_hand.HAND_CONNECTIONS)\n",
    "\n",
    "    cTime = time.time()\n",
    "    fps = 1/(cTime-pTime)\n",
    "    pTime = cTime\n",
    "\n",
    "    cv2.putText(frame, str(int(fps)), (15, 25),\n",
    "                cv2.FONT_HERSHEY_COMPLEX, 2, (255, 0, 255), 2)\n",
    "    cv2.imshow(\"Image\", frame)\n",
    "\n",
    "    if cv2.waitKey(27) & 0xFF == ord('q'):\n",
    "        break\n",
    "\n",
    "cv2.destroyAllWindows()\n",
    "cap.release()\n"
   ]
  },
  {
   "cell_type": "markdown",
   "id": "4717a223",
   "metadata": {},
   "source": [
    "### Project 2 :  Pose Detecting"
   ]
  },
  {
   "cell_type": "code",
   "execution_count": 4,
   "id": "6685dd50-a012-4fd5-9fc0-24c2edde5c6c",
   "metadata": {},
   "outputs": [],
   "source": [
    "import cv2\n",
    "import mediapipe as mp\n",
    "import time\n",
    "pTime = 0\n"
   ]
  },
  {
   "cell_type": "code",
   "execution_count": 6,
   "id": "df77b4cb",
   "metadata": {},
   "outputs": [],
   "source": [
    "cap = cv2.VideoCapture(0)\n",
    "\n",
    "mp_draw = mp.solutions.drawing_utils\n",
    "mp_pose = mp.solutions.pose\n",
    "\n",
    "pose = mp_pose.Pose()\n",
    "\n",
    "while(cap.isOpened()):\n",
    "    _, frame = cap.read()\n",
    "    frameRGB = cv2.cvtColor(frame, cv2.COLOR_BGR2RGB)\n",
    "    result = pose.process(frameRGB)\n",
    "    if result.pose_landmarks:\n",
    "        mp_draw.draw_landmarks(\n",
    "            frame, result.pose_landmarks, mp_pose.POSE_CONNECTIONS)\n",
    "    cTime = time.time()\n",
    "    fps = 1/(cTime-pTime)\n",
    "    pTime = cTime\n",
    "\n",
    "    cv2.putText(frame, str(int(fps)), (15, 45),\n",
    "                cv2.FONT_HERSHEY_COMPLEX, 1, (255, 0, 255), 2)\n",
    "    cv2.imshow(\"Image\", frame)\n",
    "\n",
    "    if cv2.waitKey(27) & 0xFF == ord('q'):\n",
    "        break\n",
    "\n",
    "cv2.destroyAllWindows()\n",
    "cap.release()\n"
   ]
  },
  {
   "cell_type": "markdown",
   "id": "a6024d94",
   "metadata": {},
   "source": [
    "### Project 3: Basic Face Detection"
   ]
  },
  {
   "cell_type": "code",
   "execution_count": null,
   "id": "33e5a56f",
   "metadata": {},
   "outputs": [],
   "source": [
    "import cv2\n",
    "import mediapipe as mp\n",
    "import time\n",
    "pTime = 0\n"
   ]
  },
  {
   "cell_type": "code",
   "execution_count": 9,
   "id": "fafe6f31",
   "metadata": {},
   "outputs": [],
   "source": [
    "cap = cv2.VideoCapture(0)\n",
    "\n",
    "mp_draw = mp.solutions.drawing_utils\n",
    "mp_face = mp.solutions.face_detection\n",
    "\n",
    "faces = mp_face.FaceDetection()\n",
    "\n",
    "while(cap.isOpened()):\n",
    "    _, frame = cap.read()\n",
    "    frameRGB = cv2.cvtColor(frame, cv2.COLOR_BGR2RGB)\n",
    "    results = faces.process(frameRGB)\n",
    "    if results.detections:\n",
    "        for detection in results.detections:\n",
    "            # should be annoated => draw_landmarks\n",
    "            mp_draw.draw_detection(frame, detection)\n",
    "    cTime = time.time()\n",
    "    fps = 1/(cTime-pTime)\n",
    "    pTime = cTime\n",
    "\n",
    "    cv2.putText(frame, str(int(fps)), (15, 45),\n",
    "                cv2.FONT_HERSHEY_COMPLEX, 1, (255, 0, 255), 2)\n",
    "    cv2.imshow(\"Image\", frame)\n",
    "\n",
    "    if cv2.waitKey(27) & 0xFF == ord('q'):\n",
    "        break\n",
    "\n",
    "cv2.destroyAllWindows()\n",
    "cap.release()\n"
   ]
  },
  {
   "cell_type": "markdown",
   "id": "15dfadac",
   "metadata": {},
   "source": [
    "### Project 4 : Mesh Face detection"
   ]
  },
  {
   "cell_type": "code",
   "execution_count": 1,
   "id": "8c11473b",
   "metadata": {},
   "outputs": [],
   "source": [
    "import cv2\n",
    "import mediapipe as mp\n",
    "import time\n",
    "pTime = 0\n"
   ]
  },
  {
   "cell_type": "code",
   "execution_count": 8,
   "id": "a58952dc",
   "metadata": {},
   "outputs": [],
   "source": [
    "cap = cv2.VideoCapture(0)\n",
    "mp_Meshface = mp.solutions.face_mesh\n",
    "mp_draw = mp.solutions.drawing_utils\n",
    "mp_draw_specification = mp_draw.DrawingSpec(thickness=1, circle_radius=1)\n",
    "Meshfaces = mp_Meshface.FaceMesh()\n",
    "\n",
    "while(cap.isOpened()):\n",
    "    _, frame = cap.read()\n",
    "    frameRGB = cv2.cvtColor(frame, cv2.COLOR_BGR2RGB)\n",
    "    results = Meshfaces.process(frameRGB)\n",
    "\n",
    "    if results.multi_face_landmarks:\n",
    "        for detection in results.multi_face_landmarks:\n",
    "            mp_draw.draw_landmarks(\n",
    "                frame, detection, mp_Meshface.FACEMESH_TESSELATION,\n",
    "                mp_draw_specification, mp_draw_specification)\n",
    "\n",
    "    cTime = time.time()\n",
    "    fps = 1/(cTime-pTime)\n",
    "    pTime = cTime\n",
    "\n",
    "    cv2.putText(frame, str(int(fps)), (15, 45),\n",
    "                cv2.FONT_HERSHEY_COMPLEX, 1, (255, 0, 255), 2)\n",
    "    cv2.imshow(\"Image\", frame)\n",
    "\n",
    "    if cv2.waitKey(27) & 0xFF == ord('q'):\n",
    "        break\n",
    "\n",
    "cv2.destroyAllWindows()\n",
    "cap.release()\n"
   ]
  },
  {
   "cell_type": "markdown",
   "id": "05a38c0e",
   "metadata": {},
   "source": [
    "### Project 5: Volumn Control Hand Tracking "
   ]
  },
  {
   "cell_type": "code",
   "execution_count": 1,
   "id": "188092a8",
   "metadata": {},
   "outputs": [],
   "source": [
    "import cv2\n",
    "import numpy as np\n",
    "import mediapipe as mp\n",
    "import time\n",
    "\n",
    "pTime = 0\n"
   ]
  },
  {
   "cell_type": "code",
   "execution_count": 2,
   "id": "d78c6c53",
   "metadata": {},
   "outputs": [],
   "source": [
    "mp_hand = mp.solutions.hands\n",
    "mp_draw = mp.solutions.drawing_utils\n",
    "hands = mp_hand.Hands()\n",
    "\n",
    "\n",
    "def getLandmarks(frameRGB, draw=True):\n",
    "    result = hands.process(frameRGB)\n",
    "    landmarks = []\n",
    "\n",
    "    if result.multi_hand_landmarks:\n",
    "        for hand_landmark in result.multi_hand_landmarks:\n",
    "            for id, land in enumerate(hand_landmark.landmark):\n",
    "                h, w, c = frameRGB.shape\n",
    "                landmarks.append([id, int(land.x*w), int(land.y*h)])\n",
    "            if draw == True:\n",
    "                mp_draw.draw_landmarks(frame, hand_landmark,\n",
    "                                       mp_hand.HAND_CONNECTIONS)\n",
    "        return list(landmarks)\n"
   ]
  },
  {
   "cell_type": "code",
   "execution_count": 3,
   "id": "c8ee58bb",
   "metadata": {},
   "outputs": [],
   "source": [
    "cap = cv2.VideoCapture(0)\n",
    "\n",
    "while(cap.isOpened()):\n",
    "    _, frame = cap.read()\n",
    "    frameRGB = cv2.cvtColor(frame, cv2.COLOR_BGR2RGB)\n",
    "\n",
    "    landmarks = getLandmarks(frameRGB)\n",
    "    if landmarks != None:\n",
    "        x1, y1 = landmarks[4][1], landmarks[4][2]\n",
    "        x2, y2 = landmarks[8][1], landmarks[8][2]\n",
    "\n",
    "        cv2.circle(frame, (x1, y1), 5, (255, 0, 0), -1)\n",
    "        cv2.circle(frame, (x2, y2), 5, (255, 0, 0), -1)\n",
    "        cv2.line(frame, (x1, y1), (x2, y2), (255, 0, 0), 3)\n",
    "\n",
    "    cTime = time.time()\n",
    "    fps = 1/(cTime-pTime)\n",
    "    pTime = cTime\n",
    "\n",
    "    cv2.putText(frame, str(int(fps)), (15, 45),\n",
    "                cv2.FONT_HERSHEY_COMPLEX, 1, (255, 0, 255), 2)\n",
    "    frame = cv2.flip(frame, 1)\n",
    "    cv2.imshow(\"FRAME\", frame)\n",
    "\n",
    "    if cv2.waitKey(27) & 0xFF == ord('q'):\n",
    "        break\n",
    "\n",
    "cv2.destroyAllWindows()\n",
    "cap.release()\n"
   ]
  },
  {
   "cell_type": "markdown",
   "id": "16c7837c",
   "metadata": {},
   "source": [
    "### Project 6: Counting Number"
   ]
  },
  {
   "cell_type": "code",
   "execution_count": 1,
   "id": "15d35dc3",
   "metadata": {},
   "outputs": [],
   "source": [
    "import cv2\n",
    "import numpy as np\n",
    "import mediapipe as mp\n",
    "import time\n",
    "\n",
    "pTime = 0\n"
   ]
  },
  {
   "cell_type": "code",
   "execution_count": 2,
   "id": "2f8bc002",
   "metadata": {},
   "outputs": [],
   "source": [
    "mp_hand = mp.solutions.hands\n",
    "mp_draw = mp.solutions.drawing_utils\n",
    "hands = mp_hand.Hands()\n",
    "\n",
    "\n",
    "def getLandmarks(frameRGB, draw=True):\n",
    "    result = hands.process(frameRGB)\n",
    "    landmarks = []\n",
    "\n",
    "    if result.multi_hand_landmarks:\n",
    "        for hand_landmark in result.multi_hand_landmarks:\n",
    "            for id, land in enumerate(hand_landmark.landmark):\n",
    "                h, w, c = frameRGB.shape\n",
    "                landmarks.append([id, int(land.x*w), int(land.y*h)])\n",
    "            if draw == True:\n",
    "                mp_draw.draw_landmarks(frame, hand_landmark,\n",
    "                                       mp_hand.HAND_CONNECTIONS)\n",
    "        return list(landmarks)\n",
    "\n",
    "\n",
    "def findFinger():\n",
    "    pass\n"
   ]
  },
  {
   "cell_type": "code",
   "execution_count": 12,
   "id": "4d750221",
   "metadata": {},
   "outputs": [],
   "source": [
    "cap = cv2.VideoCapture(0)\n",
    "\n",
    "while(cap.isOpened()):\n",
    "    _, frame = cap.read()\n",
    "    frameRGB = cv2.cvtColor(frame, cv2.COLOR_BGR2RGB)\n",
    "\n",
    "    landmarks = getLandmarks(frameRGB)\n",
    "    fingers = [4, 8, 12, 16, 20]\n",
    "    openFingers = []\n",
    "    if landmarks != None:\n",
    "        for finger in fingers:\n",
    "            if finger == 4:\n",
    "                if landmarks[finger][1] > landmarks[finger + 1][1]:\n",
    "                    openFingers.append(1)\n",
    "            else:\n",
    "                if landmarks[finger][2] < landmarks[finger - 1][2]:\n",
    "                    openFingers.append(1)\n",
    "\n",
    "            # print(openFingers)\n",
    "    number = openFingers.count(1)\n",
    "\n",
    "    cv2.rectangle(frame, (20, 150), (100, 270), (255, 0, 0), -1)\n",
    "    cv2.putText(frame, str(number), (20, 250),\n",
    "                cv2.FONT_HERSHEY_COMPLEX, 3, (255, 255, 0), 3)\n",
    "\n",
    "    cTime = time.time()\n",
    "    fps = 1/(cTime-pTime)\n",
    "    pTime = cTime\n",
    "\n",
    "    cv2.putText(frame, str(int(fps)), (15, 85),\n",
    "                cv2.FONT_HERSHEY_COMPLEX, 1, (255, 0, 255), 2)\n",
    "    #frame = cv2.flip(frame, 1)\n",
    "    cv2.imshow(\"FRAME\", frame)\n",
    "\n",
    "    if cv2.waitKey(27) & 0xFF == ord('q'):\n",
    "        break\n",
    "\n",
    "cv2.destroyAllWindows()\n",
    "cap.release()\n"
   ]
  },
  {
   "cell_type": "markdown",
   "id": "cc94b050",
   "metadata": {},
   "source": [
    "### Project 7: Draw and Painter "
   ]
  },
  {
   "cell_type": "markdown",
   "id": "b1537f7b",
   "metadata": {},
   "source": []
  }
 ],
 "metadata": {
  "kernelspec": {
   "display_name": "Python 3 (ipykernel)",
   "language": "python",
   "name": "python3"
  },
  "language_info": {
   "codemirror_mode": {
    "name": "ipython",
    "version": 3
   },
   "file_extension": ".py",
   "mimetype": "text/x-python",
   "name": "python",
   "nbconvert_exporter": "python",
   "pygments_lexer": "ipython3",
   "version": "3.10.5"
  },
  "vscode": {
   "interpreter": {
    "hash": "4d092db815812e67ae4aabd270f62bbc7d3f5dc6ff3b8160d2902f7edc5dee55"
   }
  }
 },
 "nbformat": 4,
 "nbformat_minor": 5
}
